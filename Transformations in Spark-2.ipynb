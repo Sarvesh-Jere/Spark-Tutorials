{
 "cells": [
  {
   "cell_type": "code",
   "execution_count": 0,
   "metadata": {
    "application/vnd.databricks.v1+cell": {
     "cellMetadata": {
      "byteLimit": 2048000,
      "rowLimit": 10000
     },
     "inputWidgets": {},
     "nuid": "c1777c5d-1e3f-4b7d-bc61-b455017136d3",
     "showTitle": false,
     "tableResultSettingsMap": {},
     "title": ""
    }
   },
   "outputs": [],
   "source": [
    "from pyspark.sql.functions import *\n",
    "from pyspark.sql.types import *"
   ]
  },
  {
   "cell_type": "code",
   "execution_count": 0,
   "metadata": {
    "application/vnd.databricks.v1+cell": {
     "cellMetadata": {
      "byteLimit": 2048000,
      "rowLimit": 10000
     },
     "inputWidgets": {},
     "nuid": "415f79c9-ddf0-4003-998c-ba8c02664b7c",
     "showTitle": false,
     "tableResultSettingsMap": {},
     "title": ""
    }
   },
   "outputs": [
    {
     "output_type": "stream",
     "name": "stdout",
     "output_type": "stream",
     "text": [
      "+---+--------+---+------+-------+------+\n| id|    name|age|salary|address|gender|\n+---+--------+---+------+-------+------+\n|  1|  Manish| 26| 75000|  INDIA|     m|\n|  2|  Nikita| 23|100000|    USA|     f|\n|  3|  Pritam| 22|150000|  INDIA|     m|\n|  4|Prantosh| 17|200000|  JAPAN|     m|\n|  5|  Vikash| 31|300000|    USA|     m|\n|  6|   Rahul| 55|300000|  INDIA|     m|\n|  7|    Raju| 67|540000|    USA|     m|\n|  8| Praveen| 28| 70000|  JAPAN|     m|\n|  9|     Dev| 32|150000|  JAPAN|     m|\n| 10|  Sherin| 16| 25000| RUSSIA|     f|\n| 11|    Ragu| 12| 35000|  INDIA|     f|\n| 12|   Sweta| 43|200000|  INDIA|     f|\n| 13| Raushan| 48|650000|    USA|     m|\n| 14|  Mukesh| 36| 95000| RUSSIA|     m|\n| 15| Prakash| 52|750000|  INDIA|     m|\n+---+--------+---+------+-------+------+\n\n"
     ]
    }
   ],
   "source": [
    "employee_df = spark.read.format(\"csv\")\\\n",
    "                    .option(\"header\",\"true\")\\\n",
    "                    .option(\"nferschema\",\"true\")\\\n",
    "                    .option(\"mode\",\"PERMISSIVE\")\\\n",
    "                    .load(\"/FileStore/tables/employee_data-6.csv\")\n",
    "employee_df.show()"
   ]
  },
  {
   "cell_type": "code",
   "execution_count": 0,
   "metadata": {
    "application/vnd.databricks.v1+cell": {
     "cellMetadata": {
      "byteLimit": 2048000,
      "rowLimit": 10000
     },
     "inputWidgets": {},
     "nuid": "df5c86ca-4d96-49b4-b728-f7ac8a324404",
     "showTitle": false,
     "tableResultSettingsMap": {},
     "title": ""
    }
   },
   "outputs": [
    {
     "output_type": "stream",
     "name": "stdout",
     "output_type": "stream",
     "text": [
      "Out[7]: <bound method DataFrame.printSchema of DataFrame[id: string, name: string, age: string, salary: string, address: string, gender: string]>"
     ]
    }
   ],
   "source": [
    "employee_df.printSchema"
   ]
  },
  {
   "cell_type": "code",
   "execution_count": 0,
   "metadata": {
    "application/vnd.databricks.v1+cell": {
     "cellMetadata": {
      "byteLimit": 2048000,
      "rowLimit": 10000
     },
     "inputWidgets": {},
     "nuid": "20083eb7-168a-4b73-ad4c-23569f278f5b",
     "showTitle": false,
     "tableResultSettingsMap": {},
     "title": ""
    }
   },
   "outputs": [],
   "source": [
    "#Creatind Temporary view as temporry view is required in Spark SQL\n",
    "employee_df.createOrReplaceTempView(\"employee_tbl\")"
   ]
  },
  {
   "cell_type": "code",
   "execution_count": 0,
   "metadata": {
    "application/vnd.databricks.v1+cell": {
     "cellMetadata": {
      "byteLimit": 2048000,
      "rowLimit": 10000
     },
     "inputWidgets": {},
     "nuid": "a3cdb118-ba64-44b9-a320-d9dfd7e49e30",
     "showTitle": false,
     "tableResultSettingsMap": {},
     "title": ""
    }
   },
   "outputs": [
    {
     "output_type": "stream",
     "name": "stdout",
     "output_type": "stream",
     "text": [
      "+-----------+--------+---+\n|employee_id|    name|age|\n+-----------+--------+---+\n|          1|  Manish| 26|\n|          2|  Nikita| 23|\n|          3|  Pritam| 22|\n|          4|Prantosh| 17|\n|          5|  Vikash| 31|\n|          6|   Rahul| 55|\n|          7|    Raju| 67|\n|          8| Praveen| 28|\n|          9|     Dev| 32|\n|         10|  Sherin| 16|\n|         11|    Ragu| 12|\n|         12|   Sweta| 43|\n|         13| Raushan| 48|\n|         14|  Mukesh| 36|\n|         15| Prakash| 52|\n+-----------+--------+---+\n\n"
     ]
    }
   ],
   "source": [
    "#Aliasing employee_id in place of id\n",
    "employee_df.select(col(\"id\").alias(\"employee_id\"),\"name\",\"age\").show()"
   ]
  },
  {
   "cell_type": "code",
   "execution_count": 0,
   "metadata": {
    "application/vnd.databricks.v1+cell": {
     "cellMetadata": {
      "byteLimit": 2048000,
      "rowLimit": 10000
     },
     "inputWidgets": {},
     "nuid": "8a0634dd-f2c7-46cf-a5cc-a95c59c6bc8d",
     "showTitle": false,
     "tableResultSettingsMap": {},
     "title": ""
    }
   },
   "outputs": [
    {
     "output_type": "stream",
     "name": "stdout",
     "output_type": "stream",
     "text": [
      "+---+--------+---+------+-------+------+\n| id|    name|age|salary|address|gender|\n+---+--------+---+------+-------+------+\n|  4|Prantosh| 17|200000|  JAPAN|     m|\n|  5|  Vikash| 31|300000|    USA|     m|\n|  6|   Rahul| 55|300000|  INDIA|     m|\n|  7|    Raju| 67|540000|    USA|     m|\n| 12|   Sweta| 43|200000|  INDIA|     f|\n| 13| Raushan| 48|650000|    USA|     m|\n| 15| Prakash| 52|750000|  INDIA|     m|\n+---+--------+---+------+-------+------+\n\n"
     ]
    }
   ],
   "source": [
    "#Filter salary > 1.5 lakhs, can also use where in the same way\n",
    "employee_df.filter(col(\"salary\")> 150000).show()"
   ]
  },
  {
   "cell_type": "code",
   "execution_count": 0,
   "metadata": {
    "application/vnd.databricks.v1+cell": {
     "cellMetadata": {
      "byteLimit": 2048000,
      "rowLimit": 10000
     },
     "inputWidgets": {},
     "nuid": "d1ff533e-c786-498d-91cd-54301eeb9bfa",
     "showTitle": false,
     "tableResultSettingsMap": {},
     "title": ""
    }
   },
   "outputs": [
    {
     "output_type": "stream",
     "name": "stdout",
     "output_type": "stream",
     "text": [
      "+---+--------+---+------+-------+------+---------+\n| id|    name|age|salary|address|gender|Last_name|\n+---+--------+---+------+-------+------+---------+\n|  1|  Manish| 26| 75000|  INDIA|     m|     Jere|\n|  2|  Nikita| 23|100000|    USA|     f|     Jere|\n|  3|  Pritam| 22|150000|  INDIA|     m|     Jere|\n|  4|Prantosh| 17|200000|  JAPAN|     m|     Jere|\n|  5|  Vikash| 31|300000|    USA|     m|     Jere|\n|  6|   Rahul| 55|300000|  INDIA|     m|     Jere|\n|  7|    Raju| 67|540000|    USA|     m|     Jere|\n|  8| Praveen| 28| 70000|  JAPAN|     m|     Jere|\n|  9|     Dev| 32|150000|  JAPAN|     m|     Jere|\n| 10|  Sherin| 16| 25000| RUSSIA|     f|     Jere|\n| 11|    Ragu| 12| 35000|  INDIA|     f|     Jere|\n| 12|   Sweta| 43|200000|  INDIA|     f|     Jere|\n| 13| Raushan| 48|650000|    USA|     m|     Jere|\n| 14|  Mukesh| 36| 95000| RUSSIA|     m|     Jere|\n| 15| Prakash| 52|750000|  INDIA|     m|     Jere|\n+---+--------+---+------+-------+------+---------+\n\n"
     ]
    }
   ],
   "source": [
    "#Using Literal to show Last_name \n",
    "employee_df.select(\"*\", lit(\"Jere\").alias(\"Last_name\")).show()"
   ]
  },
  {
   "cell_type": "code",
   "execution_count": 0,
   "metadata": {
    "application/vnd.databricks.v1+cell": {
     "cellMetadata": {
      "byteLimit": 2048000,
      "rowLimit": 10000
     },
     "inputWidgets": {},
     "nuid": "58573311-3e5d-46c0-bd22-545429f2d07a",
     "showTitle": false,
     "tableResultSettingsMap": {},
     "title": ""
    }
   },
   "outputs": [
    {
     "output_type": "stream",
     "name": "stdout",
     "output_type": "stream",
     "text": [
      "+---+--------+---+------+-------+------+--------+\n| id|    name|age|salary|address|gender|sur_name|\n+---+--------+---+------+-------+------+--------+\n|  1|  Manish| 26| 75000|  INDIA|     m|   Messi|\n|  2|  Nikita| 23|100000|    USA|     f|   Messi|\n|  3|  Pritam| 22|150000|  INDIA|     m|   Messi|\n|  4|Prantosh| 17|200000|  JAPAN|     m|   Messi|\n|  5|  Vikash| 31|300000|    USA|     m|   Messi|\n|  6|   Rahul| 55|300000|  INDIA|     m|   Messi|\n|  7|    Raju| 67|540000|    USA|     m|   Messi|\n|  8| Praveen| 28| 70000|  JAPAN|     m|   Messi|\n|  9|     Dev| 32|150000|  JAPAN|     m|   Messi|\n| 10|  Sherin| 16| 25000| RUSSIA|     f|   Messi|\n| 11|    Ragu| 12| 35000|  INDIA|     f|   Messi|\n| 12|   Sweta| 43|200000|  INDIA|     f|   Messi|\n| 13| Raushan| 48|650000|    USA|     m|   Messi|\n| 14|  Mukesh| 36| 95000| RUSSIA|     m|   Messi|\n| 15| Prakash| 52|750000|  INDIA|     m|   Messi|\n+---+--------+---+------+-------+------+--------+\n\n"
     ]
    }
   ],
   "source": [
    "#Using withColumn to create a new column sur_name, It creates new if not present otherwise replaces it.\n",
    "employee_df.withColumn(\"sur_name\",lit(\"Messi\")).show()"
   ]
  },
  {
   "cell_type": "code",
   "execution_count": 0,
   "metadata": {
    "application/vnd.databricks.v1+cell": {
     "cellMetadata": {
      "byteLimit": 2048000,
      "rowLimit": 10000
     },
     "inputWidgets": {},
     "nuid": "d249e988-a04f-4163-b177-e9daff1cc964",
     "showTitle": false,
     "tableResultSettingsMap": {},
     "title": ""
    }
   },
   "outputs": [
    {
     "output_type": "stream",
     "name": "stdout",
     "output_type": "stream",
     "text": [
      "root\n |-- id: string (nullable = true)\n |-- name: string (nullable = true)\n |-- age: string (nullable = true)\n |-- salary: string (nullable = true)\n |-- address: string (nullable = true)\n |-- gender: string (nullable = true)\n\n"
     ]
    }
   ],
   "source": [
    "employee_df.printSchema()"
   ]
  },
  {
   "cell_type": "code",
   "execution_count": 0,
   "metadata": {
    "application/vnd.databricks.v1+cell": {
     "cellMetadata": {
      "byteLimit": 2048000,
      "rowLimit": 10000
     },
     "inputWidgets": {},
     "nuid": "0ce2def6-e94e-4f00-afe5-4b61e0be30d7",
     "showTitle": false,
     "tableResultSettingsMap": {},
     "title": ""
    }
   },
   "outputs": [
    {
     "output_type": "stream",
     "name": "stdout",
     "output_type": "stream",
     "text": [
      "root\n |-- id: string (nullable = true)\n |-- name: string (nullable = true)\n |-- age: string (nullable = true)\n |-- salary: string (nullable = true)\n |-- address: string (nullable = true)\n |-- gender: string (nullable = true)\n\n"
     ]
    }
   ],
   "source": [
    "#Changing data type of int to string using withColumn\n",
    "employee_df.withColumn(\"id\",col(\"id\").cast(\"string\")).printSchema()"
   ]
  },
  {
   "cell_type": "code",
   "execution_count": 0,
   "metadata": {
    "application/vnd.databricks.v1+cell": {
     "cellMetadata": {
      "byteLimit": 2048000,
      "rowLimit": 10000
     },
     "inputWidgets": {},
     "nuid": "e7804629-6ff7-4e08-8cd4-9675d4af3446",
     "showTitle": false,
     "tableResultSettingsMap": {},
     "title": ""
    }
   },
   "outputs": [
    {
     "output_type": "stream",
     "name": "stdout",
     "output_type": "stream",
     "text": [
      "+---+------+-------+------+\n|age|salary|address|gender|\n+---+------+-------+------+\n| 26| 75000|  INDIA|     m|\n| 23|100000|    USA|     f|\n| 22|150000|  INDIA|     m|\n| 17|200000|  JAPAN|     m|\n| 31|300000|    USA|     m|\n| 55|300000|  INDIA|     m|\n| 67|540000|    USA|     m|\n| 28| 70000|  JAPAN|     m|\n| 32|150000|  JAPAN|     m|\n| 16| 25000| RUSSIA|     f|\n| 12| 35000|  INDIA|     f|\n| 43|200000|  INDIA|     f|\n| 48|650000|    USA|     m|\n| 36| 95000| RUSSIA|     m|\n| 52|750000|  INDIA|     m|\n+---+------+-------+------+\n\n"
     ]
    }
   ],
   "source": [
    "#Removing columns\n",
    "employee_df.drop(col(\"id\"),\"name\").show()"
   ]
  },
  {
   "cell_type": "markdown",
   "metadata": {
    "application/vnd.databricks.v1+cell": {
     "cellMetadata": {},
     "inputWidgets": {},
     "nuid": "3d1e757f-2cb4-4116-b5c0-bdfdd4133cd2",
     "showTitle": false,
     "tableResultSettingsMap": {},
     "title": ""
    }
   },
   "source": [
    "Spark SQL"
   ]
  },
  {
   "cell_type": "code",
   "execution_count": 0,
   "metadata": {
    "application/vnd.databricks.v1+cell": {
     "cellMetadata": {
      "byteLimit": 2048000,
      "rowLimit": 10000
     },
     "inputWidgets": {},
     "nuid": "a1ee811b-83c8-4aff-acf3-012801b04856",
     "showTitle": false,
     "tableResultSettingsMap": {},
     "title": ""
    }
   },
   "outputs": [
    {
     "output_type": "stream",
     "name": "stdout",
     "output_type": "stream",
     "text": [
      "+---+--------+---+------+-------+------+\n| id|    name|age|salary|address|gender|\n+---+--------+---+------+-------+------+\n|  4|Prantosh| 17|200000|  JAPAN|     m|\n+---+--------+---+------+-------+------+\n\n"
     ]
    }
   ],
   "source": [
    "spark.sql(\"\"\"\n",
    "    select* from employee_tbl where salary > 150000 and age < 18      \n",
    "          \n",
    "          \n",
    "          \"\"\").show()"
   ]
  },
  {
   "cell_type": "code",
   "execution_count": 0,
   "metadata": {
    "application/vnd.databricks.v1+cell": {
     "cellMetadata": {},
     "inputWidgets": {},
     "nuid": "445e1f86-c452-48a6-b51b-4b3ff91cd4c2",
     "showTitle": false,
     "tableResultSettingsMap": {},
     "title": ""
    }
   },
   "outputs": [],
   "source": []
  }
 ],
 "metadata": {
  "application/vnd.databricks.v1+notebook": {
   "dashboards": [],
   "environmentMetadata": null,
   "language": "python",
   "notebookMetadata": {
    "pythonIndentUnit": 4
   },
   "notebookName": "Transformations in Spark-2",
   "widgets": {}
  }
 },
 "nbformat": 4,
 "nbformat_minor": 0
}
