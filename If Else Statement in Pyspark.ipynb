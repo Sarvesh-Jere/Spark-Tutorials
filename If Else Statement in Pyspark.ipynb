{
 "cells": [
  {
   "cell_type": "code",
   "execution_count": 0,
   "metadata": {
    "application/vnd.databricks.v1+cell": {
     "cellMetadata": {
      "byteLimit": 2048000,
      "rowLimit": 10000
     },
     "inputWidgets": {},
     "nuid": "307326ea-bbc2-4e01-bd76-0b98cb5b8f19",
     "showTitle": false,
     "tableResultSettingsMap": {},
     "title": ""
    }
   },
   "outputs": [],
   "source": [
    "emp_data =  [\n",
    "(1,'manish',26,20000,'india','IT'),\n",
    "(2,'rahul',None,40000,'germany','engineering'),\n",
    "(3,'pawan',12,60000,'india','sales'),\n",
    "(4,'roshini',44,None,'uk','engineering'),\n",
    "(5,'raushan',35,70000,'india','sales'),\n",
    "(6,None,29,200000,'uk','IT'),\n",
    "(7,'adam',37,65000,'us','IT'),\n",
    "(8,'chris',16,40000,'us','sales'),\n",
    "(None,None,None,None,None,None),\n",
    "(7,'adam',37,65000,'us','IT')\n",
    "]\n"
   ]
  },
  {
   "cell_type": "code",
   "execution_count": 0,
   "metadata": {
    "application/vnd.databricks.v1+cell": {
     "cellMetadata": {
      "byteLimit": 2048000,
      "rowLimit": 10000
     },
     "inputWidgets": {},
     "nuid": "aa2c4eb2-b920-40c4-9e0c-81eb4ad4f55e",
     "showTitle": false,
     "tableResultSettingsMap": {},
     "title": ""
    }
   },
   "outputs": [],
   "source": [
    "emp_schema = ['id','Name','age','Country','department']"
   ]
  },
  {
   "cell_type": "code",
   "execution_count": 0,
   "metadata": {
    "application/vnd.databricks.v1+cell": {
     "cellMetadata": {
      "byteLimit": 2048000,
      "rowLimit": 10000
     },
     "inputWidgets": {},
     "nuid": "8017da78-52b1-4cd6-9c54-23502ebe8197",
     "showTitle": false,
     "tableResultSettingsMap": {},
     "title": ""
    }
   },
   "outputs": [],
   "source": [
    "emp_df = spark.createDataFrame(emp_data, emp_schema)"
   ]
  },
  {
   "cell_type": "code",
   "execution_count": 0,
   "metadata": {
    "application/vnd.databricks.v1+cell": {
     "cellMetadata": {
      "byteLimit": 2048000,
      "rowLimit": 10000
     },
     "inputWidgets": {},
     "nuid": "1ded1864-4f61-46cd-ac42-06aadc1e4bc3",
     "showTitle": false,
     "tableResultSettingsMap": {},
     "title": ""
    }
   },
   "outputs": [],
   "source": [
    "from pyspark.sql.functions import *\n",
    "from pyspark.sql.types import *"
   ]
  },
  {
   "cell_type": "code",
   "execution_count": 0,
   "metadata": {
    "application/vnd.databricks.v1+cell": {
     "cellMetadata": {
      "byteLimit": 2048000,
      "rowLimit": 10000
     },
     "inputWidgets": {},
     "nuid": "068831a6-fc0c-42ae-aad4-f6205fe6f57c",
     "showTitle": false,
     "tableResultSettingsMap": {},
     "title": ""
    }
   },
   "outputs": [
    {
     "output_type": "stream",
     "name": "stdout",
     "output_type": "stream",
     "text": [
      "+----+-------+----+-------+----------+-----------+-------+\n|  id|   Name| age|Country|department|         _6|  adult|\n+----+-------+----+-------+----------+-----------+-------+\n|   1| manish|  26|  20000|     india|         IT|    Yes|\n|   2|  rahul|null|  40000|   germany|engineering|Novalue|\n|   3|  pawan|  12|  60000|     india|      sales|     No|\n|   4|roshini|  44|   null|        uk|engineering|    Yes|\n|   5|raushan|  35|  70000|     india|      sales|    Yes|\n|   6|   null|  29| 200000|        uk|         IT|    Yes|\n|   7|   adam|  37|  65000|        us|         IT|    Yes|\n|   8|  chris|  16|  40000|        us|      sales|     No|\n|null|   null|null|   null|      null|       null|Novalue|\n|   7|   adam|  37|  65000|        us|         IT|    Yes|\n+----+-------+----+-------+----------+-----------+-------+\n\n"
     ]
    }
   ],
   "source": [
    "#First Used the withColumn to create a new column\n",
    "# Then we used the when otherwise condition which is what is used as if else in pyspark\n",
    "emp_df.withColumn (\"adult\",when (col (\"age\") <18, \"No\")\n",
    ".when (col (\"age\") >18, \"Yes\")\n",
    ".otherwise (\"Novalue\")) .show()\n",
    "                        \n",
    "                         "
   ]
  },
  {
   "cell_type": "code",
   "execution_count": 0,
   "metadata": {
    "application/vnd.databricks.v1+cell": {
     "cellMetadata": {
      "byteLimit": 2048000,
      "rowLimit": 10000
     },
     "inputWidgets": {},
     "nuid": "1b5857f8-94a4-4d6c-ad75-d291ddd88d44",
     "showTitle": false,
     "tableResultSettingsMap": {},
     "title": ""
    }
   },
   "outputs": [
    {
     "output_type": "stream",
     "name": "stdout",
     "output_type": "stream",
     "text": [
      "+----+-------+---+-------+----------+-----------+-----+\n|  id|   Name|age|Country|department|         _6|adult|\n+----+-------+---+-------+----------+-----------+-----+\n|   1| manish| 26|  20000|     india|         IT|  Yes|\n|   2|  rahul| 19|  40000|   germany|engineering|  Yes|\n|   3|  pawan| 12|  60000|     india|      sales|   No|\n|   4|roshini| 44|   null|        uk|engineering|  Yes|\n|   5|raushan| 35|  70000|     india|      sales|  Yes|\n|   6|   null| 29| 200000|        uk|         IT|  Yes|\n|   7|   adam| 37|  65000|        us|         IT|  Yes|\n|   8|  chris| 16|  40000|        us|      sales|   No|\n|null|   null| 19|   null|      null|       null|  Yes|\n|   7|   adam| 37|  65000|        us|         IT|  Yes|\n+----+-------+---+-------+----------+-----------+-----+\n\n"
     ]
    }
   ],
   "source": [
    "#Modified the above code to remove null values and replace tgem with 19\n",
    "emp_df.withColumn (\"age\"\n",
    ",when (col (\"age\") .isNull(),lit(19))\n",
    ".otherwise(col(\"age\")))\\\n",
    ".withColumn (\"adult\" ,when (col (\"age\") >18, \"Yes\")\n",
    ".otherwise(\"No\")) .show()"
   ]
  },
  {
   "cell_type": "code",
   "execution_count": 0,
   "metadata": {
    "application/vnd.databricks.v1+cell": {
     "cellMetadata": {
      "byteLimit": 2048000,
      "rowLimit": 10000
     },
     "inputWidgets": {},
     "nuid": "7efd902a-47d5-4fb0-90ff-057d404f3346",
     "showTitle": false,
     "tableResultSettingsMap": {},
     "title": ""
    }
   },
   "outputs": [
    {
     "output_type": "stream",
     "name": "stdout",
     "output_type": "stream",
     "text": [
      "+----+-------+----+-------+----------+-----------+--------+\n|  id|   Name| age|Country|department|         _6|age_wise|\n+----+-------+----+-------+----------+-----------+--------+\n|   1| manish|  26|  20000|     india|         IT|     Mid|\n|   2|  rahul|null|  40000|   germany|engineering|   Adult|\n|   3|  pawan|  12|  60000|     india|      sales|   Minor|\n|   4|roshini|  44|   null|        uk|engineering|   Adult|\n|   5|raushan|  35|  70000|     india|      sales|   Adult|\n|   6|   null|  29| 200000|        uk|         IT|     Mid|\n|   7|   adam|  37|  65000|        us|         IT|   Adult|\n|   8|  chris|  16|  40000|        us|      sales|   Minor|\n|null|   null|null|   null|      null|       null|   Adult|\n|   7|   adam|  37|  65000|        us|         IT|   Adult|\n+----+-------+----+-------+----------+-----------+--------+\n\n"
     ]
    }
   ],
   "source": [
    "# Adding the \"age_wise\" column to seperate the age groups into 3 brackets \n",
    "emp_df = emp_df.withColumn(\n",
    "    \"age_wise\",\n",
    "    when((col(\"age\") > 0) & (col(\"age\") < 18), \"Minor\")\n",
    "    .when((col(\"age\") > 18) & (col(\"age\") < 30), \"Mid\")\n",
    "    .otherwise(\"Adult\")\n",
    ")\n",
    "\n",
    "emp_df.show()\n"
   ]
  },
  {
   "cell_type": "code",
   "execution_count": 0,
   "metadata": {
    "application/vnd.databricks.v1+cell": {
     "cellMetadata": {
      "byteLimit": 2048000,
      "rowLimit": 10000
     },
     "inputWidgets": {},
     "nuid": "09f45c61-0f11-4bd2-acec-991777574cc1",
     "showTitle": false,
     "tableResultSettingsMap": {},
     "title": ""
    }
   },
   "outputs": [],
   "source": [
    "emp_df.createTempView(\"table\")"
   ]
  },
  {
   "cell_type": "code",
   "execution_count": 0,
   "metadata": {
    "application/vnd.databricks.v1+cell": {
     "cellMetadata": {
      "byteLimit": 2048000,
      "rowLimit": 10000
     },
     "inputWidgets": {},
     "nuid": "90e5af21-46d8-4a87-bd33-eaa15b52c094",
     "showTitle": false,
     "tableResultSettingsMap": {},
     "title": ""
    }
   },
   "outputs": [
    {
     "output_type": "stream",
     "name": "stdout",
     "output_type": "stream",
     "text": [
      "+----+-------+----+-------+----------+-----------+--------+-------+\n|  id|   Name| age|Country|department|         _6|age_wise|  adult|\n+----+-------+----+-------+----------+-----------+--------+-------+\n|   1| manish|  26|  20000|     india|         IT|     Mid|  major|\n|   2|  rahul|null|  40000|   germany|engineering|   Adult|novalue|\n|   3|  pawan|  12|  60000|     india|      sales|   Minor|  minor|\n|   4|roshini|  44|   null|        uk|engineering|   Adult|  major|\n|   5|raushan|  35|  70000|     india|      sales|   Adult|  major|\n|   6|   null|  29| 200000|        uk|         IT|     Mid|  major|\n|   7|   adam|  37|  65000|        us|         IT|   Adult|  major|\n|   8|  chris|  16|  40000|        us|      sales|   Minor|  minor|\n|null|   null|null|   null|      null|       null|   Adult|novalue|\n|   7|   adam|  37|  65000|        us|         IT|   Adult|  major|\n+----+-------+----+-------+----------+-----------+--------+-------+\n\n"
     ]
    }
   ],
   "source": [
    "# Creating the new column in spark sql where case when is used as the if else statement\n",
    "spark.sql(\"\"\"\n",
    "select *,\n",
    "case when age<18 then 'minor' when age>18 then\n",
    "'major'\n",
    "else 'novalue' end as adult\n",
    "\n",
    "from table\n",
    "\"\"\").show()"
   ]
  },
  {
   "cell_type": "code",
   "execution_count": 0,
   "metadata": {
    "application/vnd.databricks.v1+cell": {
     "cellMetadata": {},
     "inputWidgets": {},
     "nuid": "3fe3dc11-d947-4efa-b8f7-f8883420e67b",
     "showTitle": false,
     "tableResultSettingsMap": {},
     "title": ""
    }
   },
   "outputs": [],
   "source": []
  }
 ],
 "metadata": {
  "application/vnd.databricks.v1+notebook": {
   "dashboards": [],
   "environmentMetadata": null,
   "language": "python",
   "notebookMetadata": {
    "pythonIndentUnit": 4
   },
   "notebookName": "If Else Statement in Pyspark",
   "widgets": {}
  }
 },
 "nbformat": 4,
 "nbformat_minor": 0
}
