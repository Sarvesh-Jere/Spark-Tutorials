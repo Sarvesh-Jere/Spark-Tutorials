{
 "cells": [
  {
   "cell_type": "code",
   "execution_count": 0,
   "metadata": {
    "application/vnd.databricks.v1+cell": {
     "cellMetadata": {
      "byteLimit": 2048000,
      "rowLimit": 10000
     },
     "inputWidgets": {},
     "nuid": "8fafd742-8d28-42d6-b11a-6c0df372b37e",
     "showTitle": false,
     "tableResultSettingsMap": {},
     "title": ""
    }
   },
   "outputs": [
    {
     "output_type": "stream",
     "name": "stdout",
     "output_type": "stream",
     "text": [
      "+----------+------------+----------+-------+\n|product_id|product_name|sales_date|  sales|\n+----------+------------+----------+-------+\n|         2|     samsung|01-01-1995|  11000|\n|         1|      iphone|01-02-2023|1300000|\n|         2|     samsung|01-02-2023|1120000|\n|         3|     oneplus|01-02-2023|1120000|\n|         1|      iphone|01-03-2023|1600000|\n|         2|     samsung|01-03-2023|1080000|\n|         3|     oneplus|01-03-2023|1160000|\n|         1|      iphone|01-01-2006|  15000|\n|         1|      iphone|01-04-2023|1700000|\n|         2|     samsung|01-04-2023|1800000|\n|         3|     oneplus|01-04-2023|1170000|\n|         1|      iphone|01-05-2023|1200000|\n|         2|     samsung|01-05-2023| 980000|\n|         3|     oneplus|01-05-2023|1175000|\n|         1|      iphone|01-06-2023|1100000|\n|         3|     oneplus|01-01-2010|  23000|\n|         2|     samsung|01-06-2023|1100000|\n|         3|     oneplus|01-06-2023|1200000|\n+----------+------------+----------+-------+\n\n"
     ]
    }
   ],
   "source": [
    "product_data = [\n",
    "(2,\"samsung\",\"01-01-1995\",11000),\n",
    "(1,\"iphone\",\"01-02-2023\",1300000),\n",
    "(2,\"samsung\",\"01-02-2023\",1120000),\n",
    "(3,\"oneplus\",\"01-02-2023\",1120000),\n",
    "(1,\"iphone\",\"01-03-2023\",1600000),\n",
    "(2,\"samsung\",\"01-03-2023\",1080000),\n",
    "(3,\"oneplus\",\"01-03-2023\",1160000),\n",
    "(1,\"iphone\",\"01-01-2006\",15000),\n",
    "(1,\"iphone\",\"01-04-2023\",1700000),\n",
    "(2,\"samsung\",\"01-04-2023\",1800000),\n",
    "(3,\"oneplus\",\"01-04-2023\",1170000),\n",
    "(1,\"iphone\",\"01-05-2023\",1200000),\n",
    "(2,\"samsung\",\"01-05-2023\",980000),\n",
    "(3,\"oneplus\",\"01-05-2023\",1175000),\n",
    "(1,\"iphone\",\"01-06-2023\",1100000),\n",
    "(3,\"oneplus\",\"01-01-2010\",23000),\n",
    "(2,\"samsung\",\"01-06-2023\",1100000),\n",
    "(3,\"oneplus\",\"01-06-2023\",1200000)\n",
    "]\n",
    "\n",
    "product_schema=[\"product_id\",\"product_name\",\"sales_date\",\"sales\"]\n",
    "\n",
    "product_df = spark.createDataFrame(data=product_data,schema=product_schema)\n",
    "\n",
    "product_df.show()\n"
   ]
  },
  {
   "cell_type": "code",
   "execution_count": 0,
   "metadata": {
    "application/vnd.databricks.v1+cell": {
     "cellMetadata": {
      "byteLimit": 2048000,
      "rowLimit": 10000
     },
     "inputWidgets": {},
     "nuid": "e2e10031-58fa-4c25-afb6-149c0f711b94",
     "showTitle": false,
     "tableResultSettingsMap": {},
     "title": ""
    }
   },
   "outputs": [],
   "source": [
    "from pyspark.sql.functions import *\n",
    "from pyspark.sql.types import *\n",
    "from pyspark.sql.window import *"
   ]
  },
  {
   "cell_type": "code",
   "execution_count": 0,
   "metadata": {
    "application/vnd.databricks.v1+cell": {
     "cellMetadata": {
      "byteLimit": 2048000,
      "rowLimit": 10000
     },
     "inputWidgets": {},
     "nuid": "e24a8ee1-d822-4715-9469-6c345d945bbf",
     "showTitle": false,
     "tableResultSettingsMap": {},
     "title": ""
    }
   },
   "outputs": [],
   "source": [
    "window = Window.partitionBy(\"product_id\").orderBy(\"sales_date\")"
   ]
  },
  {
   "cell_type": "code",
   "execution_count": 0,
   "metadata": {
    "application/vnd.databricks.v1+cell": {
     "cellMetadata": {
      "byteLimit": 2048000,
      "rowLimit": 10000
     },
     "inputWidgets": {},
     "nuid": "511c1cec-623f-4364-bbcd-a967e5d721fe",
     "showTitle": false,
     "tableResultSettingsMap": {},
     "title": ""
    }
   },
   "outputs": [
    {
     "output_type": "stream",
     "name": "stdout",
     "output_type": "stream",
     "text": [
      "+----------+------------+----------+-------+-----------+------------+\n|product_id|product_name|sales_date|  sales|first_sales|latest_sales|\n+----------+------------+----------+-------+-----------+------------+\n|         1|      iphone|01-01-2006|  15000|      15000|       15000|\n|         1|      iphone|01-02-2023|1300000|      15000|     1300000|\n|         1|      iphone|01-03-2023|1600000|      15000|     1600000|\n|         1|      iphone|01-04-2023|1700000|      15000|     1700000|\n|         1|      iphone|01-05-2023|1200000|      15000|     1200000|\n|         1|      iphone|01-06-2023|1100000|      15000|     1100000|\n|         2|     samsung|01-01-1995|  11000|      11000|       11000|\n|         2|     samsung|01-02-2023|1120000|      11000|     1120000|\n|         2|     samsung|01-03-2023|1080000|      11000|     1080000|\n|         2|     samsung|01-04-2023|1800000|      11000|     1800000|\n|         2|     samsung|01-05-2023| 980000|      11000|      980000|\n|         2|     samsung|01-06-2023|1100000|      11000|     1100000|\n|         3|     oneplus|01-01-2010|  23000|      23000|       23000|\n|         3|     oneplus|01-02-2023|1120000|      23000|     1120000|\n|         3|     oneplus|01-03-2023|1160000|      23000|     1160000|\n|         3|     oneplus|01-04-2023|1170000|      23000|     1170000|\n|         3|     oneplus|01-05-2023|1175000|      23000|     1175000|\n|         3|     oneplus|01-06-2023|1200000|      23000|     1200000|\n+----------+------------+----------+-------+-----------+------------+\n\n"
     ]
    }
   ],
   "source": [
    "#If you compare to see the latest sales column to the actual latest sale, it is not correct at all\n",
    "product_df.withColumn(\"first_sales\",first(\"sales\").over(window))\\\n",
    "  .withColumn(\"latest_sales\",last(\"sales\").over(window)).show()"
   ]
  },
  {
   "cell_type": "code",
   "execution_count": 0,
   "metadata": {
    "application/vnd.databricks.v1+cell": {
     "cellMetadata": {
      "byteLimit": 2048000,
      "rowLimit": 10000
     },
     "inputWidgets": {},
     "nuid": "0613b701-18c7-44b4-a64d-642b86a4ba17",
     "showTitle": false,
     "tableResultSettingsMap": {},
     "title": ""
    }
   },
   "outputs": [],
   "source": [
    "#So we solved the above problem by using rowsBetween cause by default spark takes up Unbounded preceding which just takes the values before the selected. Instead we defined both Unbounded preceding and unbounded Following so as to tell spark to look up both sides of the selected value \n",
    "window = Window.partitionBy(\"product_id\").orderBy(\"sales_date\").rowsBetween(Window.unboundedPreceding,Window.unboundedFollowing)"
   ]
  },
  {
   "cell_type": "code",
   "execution_count": 0,
   "metadata": {
    "application/vnd.databricks.v1+cell": {
     "cellMetadata": {
      "byteLimit": 2048000,
      "rowLimit": 10000
     },
     "inputWidgets": {},
     "nuid": "75eff10e-179c-4dea-b0bc-1e67e9d7c89f",
     "showTitle": false,
     "tableResultSettingsMap": {},
     "title": ""
    }
   },
   "outputs": [
    {
     "output_type": "stream",
     "name": "stdout",
     "output_type": "stream",
     "text": [
      "+----------+------------+----------+-------+-----------+------------+\n|product_id|product_name|sales_date|  sales|first_sales|latest_sales|\n+----------+------------+----------+-------+-----------+------------+\n|         1|      iphone|01-01-2006|  15000|      15000|     1100000|\n|         1|      iphone|01-02-2023|1300000|      15000|     1100000|\n|         1|      iphone|01-03-2023|1600000|      15000|     1100000|\n|         1|      iphone|01-04-2023|1700000|      15000|     1100000|\n|         1|      iphone|01-05-2023|1200000|      15000|     1100000|\n|         1|      iphone|01-06-2023|1100000|      15000|     1100000|\n|         2|     samsung|01-01-1995|  11000|      11000|     1100000|\n|         2|     samsung|01-02-2023|1120000|      11000|     1100000|\n|         2|     samsung|01-03-2023|1080000|      11000|     1100000|\n|         2|     samsung|01-04-2023|1800000|      11000|     1100000|\n|         2|     samsung|01-05-2023| 980000|      11000|     1100000|\n|         2|     samsung|01-06-2023|1100000|      11000|     1100000|\n|         3|     oneplus|01-01-2010|  23000|      23000|     1200000|\n|         3|     oneplus|01-02-2023|1120000|      23000|     1200000|\n|         3|     oneplus|01-03-2023|1160000|      23000|     1200000|\n|         3|     oneplus|01-04-2023|1170000|      23000|     1200000|\n|         3|     oneplus|01-05-2023|1175000|      23000|     1200000|\n|         3|     oneplus|01-06-2023|1200000|      23000|     1200000|\n+----------+------------+----------+-------+-----------+------------+\n\n"
     ]
    }
   ],
   "source": [
    "product_df.withColumn(\"first_sales\",first(\"sales\").over(window))\\\n",
    "  .withColumn(\"latest_sales\",last(\"sales\").over(window)).show()"
   ]
  },
  {
   "cell_type": "code",
   "execution_count": 0,
   "metadata": {
    "application/vnd.databricks.v1+cell": {
     "cellMetadata": {
      "byteLimit": 2048000,
      "rowLimit": 10000
     },
     "inputWidgets": {},
     "nuid": "a2015bf6-9cff-4ed1-89a0-abd1de4aa66f",
     "showTitle": false,
     "tableResultSettingsMap": {},
     "title": ""
    }
   },
   "outputs": [
    {
     "output_type": "stream",
     "name": "stdout",
     "output_type": "stream",
     "text": [
      "+---+------+----------+-----+\n| id|  name|      date| time|\n+---+------+----------+-----+\n|  1|manish|11-07-2023|10:20|\n|  1|manish|11-07-2023|11:20|\n|  2|rajesh|11-07-2023|11:20|\n|  1|manish|11-07-2023|11:50|\n|  2|rajesh|11-07-2023|13:20|\n|  1|manish|11-07-2023|19:20|\n|  2|rajesh|11-07-2023|17:20|\n|  1|manish|12-07-2023|10:32|\n|  1|manish|12-07-2023|12:20|\n|  3|vikash|12-07-2023|09:12|\n|  1|manish|12-07-2023|16:23|\n|  3|vikash|12-07-2023|18:08|\n+---+------+----------+-----+\n\n"
     ]
    }
   ],
   "source": [
    "emp_data = [(1,\"manish\",\"11-07-2023\",\"10:20\"),\n",
    "        (1,\"manish\",\"11-07-2023\",\"11:20\"),\n",
    "        (2,\"rajesh\",\"11-07-2023\",\"11:20\"),\n",
    "        (1,\"manish\",\"11-07-2023\",\"11:50\"),\n",
    "        (2,\"rajesh\",\"11-07-2023\",\"13:20\"),\n",
    "        (1,\"manish\",\"11-07-2023\",\"19:20\"),\n",
    "        (2,\"rajesh\",\"11-07-2023\",\"17:20\"),\n",
    "        (1,\"manish\",\"12-07-2023\",\"10:32\"),\n",
    "        (1,\"manish\",\"12-07-2023\",\"12:20\"),\n",
    "        (3,\"vikash\",\"12-07-2023\",\"09:12\"),\n",
    "        (1,\"manish\",\"12-07-2023\",\"16:23\"),\n",
    "        (3,\"vikash\",\"12-07-2023\",\"18:08\")]\n",
    "\n",
    "emp_schema = [\"id\", \"name\", \"date\", \"time\"]\n",
    "emp_df = spark.createDataFrame(data=emp_data, schema=emp_schema)\n",
    "\n",
    "emp_df.show()"
   ]
  },
  {
   "cell_type": "code",
   "execution_count": 0,
   "metadata": {
    "application/vnd.databricks.v1+cell": {
     "cellMetadata": {
      "byteLimit": 2048000,
      "rowLimit": 10000
     },
     "inputWidgets": {},
     "nuid": "085b84a2-424f-4249-a5b4-9768b237ad7b",
     "showTitle": false,
     "tableResultSettingsMap": {},
     "title": ""
    }
   },
   "outputs": [],
   "source": [
    "#Converted to timestamp, to connect or add 2 columns that is date and time togather \n",
    "emp_df = emp_df.withColumn (\"timestamp\" ,\n",
    "from_unixtime (unix_timestamp (expr (\"CONCAT(date, ' ', time) \"),\"dd-MM-yyyy HH: mm\")))"
   ]
  },
  {
   "cell_type": "code",
   "execution_count": 0,
   "metadata": {
    "application/vnd.databricks.v1+cell": {
     "cellMetadata": {
      "byteLimit": 2048000,
      "rowLimit": 10000
     },
     "inputWidgets": {},
     "nuid": "de3ca2e8-ae3b-41d7-8a2f-2e91821cbb13",
     "showTitle": false,
     "tableResultSettingsMap": {},
     "title": ""
    }
   },
   "outputs": [],
   "source": [
    "window = Window.partitionBy(\"id\",\"date\").orderBy(\"date\").rowsBetween(Window.unboundedPreceding,Window.unboundedFollowing)"
   ]
  },
  {
   "cell_type": "markdown",
   "metadata": {
    "application/vnd.databricks.v1+cell": {
     "cellMetadata": {},
     "inputWidgets": {},
     "nuid": "6c47ffdb-2b50-484c-b48f-1d243355784e",
     "showTitle": false,
     "tableResultSettingsMap": {},
     "title": ""
    }
   },
   "source": [
    "Running Sales\n",
    "\n"
   ]
  },
  {
   "cell_type": "code",
   "execution_count": 0,
   "metadata": {
    "application/vnd.databricks.v1+cell": {
     "cellMetadata": {
      "byteLimit": 2048000,
      "rowLimit": 10000
     },
     "inputWidgets": {},
     "nuid": "16ff12a2-e80b-4d0a-a94f-0d520f27c134",
     "showTitle": false,
     "tableResultSettingsMap": {},
     "title": ""
    }
   },
   "outputs": [
    {
     "output_type": "stream",
     "name": "stdout",
     "output_type": "stream",
     "text": [
      "+----------+------------+----------+-------+\n|product_id|product_name|sales_date|  sales|\n+----------+------------+----------+-------+\n|         2|     samsung|01-01-1995|  11000|\n|         1|      iphone|01-02-2023|1300000|\n|         2|     samsung|01-02-2023|1120000|\n|         3|     oneplus|01-02-2023|1120000|\n|         1|      iphone|01-03-2023|1600000|\n|         2|     samsung|01-03-2023|1080000|\n|         3|     oneplus|01-03-2023|1160000|\n|         1|      iphone|01-01-2006|  15000|\n|         1|      iphone|01-04-2023|1700000|\n|         2|     samsung|01-04-2023|1800000|\n|         3|     oneplus|01-04-2023|1170000|\n|         1|      iphone|01-05-2023|1200000|\n|         2|     samsung|01-05-2023| 980000|\n|         3|     oneplus|01-05-2023|1175000|\n|         1|      iphone|01-06-2023|1100000|\n|         3|     oneplus|01-01-2010|  23000|\n|         2|     samsung|01-06-2023|1100000|\n|         3|     oneplus|01-06-2023|1200000|\n+----------+------------+----------+-------+\n\n"
     ]
    }
   ],
   "source": [
    "product_df.show()"
   ]
  },
  {
   "cell_type": "code",
   "execution_count": 0,
   "metadata": {
    "application/vnd.databricks.v1+cell": {
     "cellMetadata": {
      "byteLimit": 2048000,
      "rowLimit": 10000
     },
     "inputWidgets": {},
     "nuid": "01c14b88-a6cf-4e71-b8d6-e0ffcfe90520",
     "showTitle": false,
     "tableResultSettingsMap": {},
     "title": ""
    }
   },
   "outputs": [],
   "source": [
    "#Creating a new window to get running_sum by adding the 2 values above the specified value \n",
    "window = Window.partitionBy(\"product_id\",\"sales_date\").orderBy(\"sales_date\").rowsBetween(-2,0)"
   ]
  },
  {
   "cell_type": "code",
   "execution_count": 0,
   "metadata": {
    "application/vnd.databricks.v1+cell": {
     "cellMetadata": {
      "byteLimit": 2048000,
      "rowLimit": 10000
     },
     "inputWidgets": {},
     "nuid": "1d04634c-6d3b-4b5b-990c-f15c004d1ae0",
     "showTitle": false,
     "tableResultSettingsMap": {},
     "title": ""
    }
   },
   "outputs": [
    {
     "output_type": "stream",
     "name": "stdout",
     "output_type": "stream",
     "text": [
      "+----------+------------+----------+-------+-----------+\n|product_id|product_name|sales_date|  sales|running_sum|\n+----------+------------+----------+-------+-----------+\n|         1|      iphone|01-01-2006|  15000|      15000|\n|         1|      iphone|01-02-2023|1300000|    1300000|\n|         1|      iphone|01-03-2023|1600000|    1600000|\n|         1|      iphone|01-04-2023|1700000|    1700000|\n|         1|      iphone|01-05-2023|1200000|    1200000|\n|         1|      iphone|01-06-2023|1100000|    1100000|\n|         2|     samsung|01-01-1995|  11000|      11000|\n|         2|     samsung|01-02-2023|1120000|    1120000|\n|         2|     samsung|01-03-2023|1080000|    1080000|\n|         2|     samsung|01-04-2023|1800000|    1800000|\n|         2|     samsung|01-05-2023| 980000|     980000|\n|         2|     samsung|01-06-2023|1100000|    1100000|\n|         3|     oneplus|01-01-2010|  23000|      23000|\n|         3|     oneplus|01-02-2023|1120000|    1120000|\n|         3|     oneplus|01-03-2023|1160000|    1160000|\n|         3|     oneplus|01-04-2023|1170000|    1170000|\n|         3|     oneplus|01-05-2023|1175000|    1175000|\n|         3|     oneplus|01-06-2023|1200000|    1200000|\n+----------+------------+----------+-------+-----------+\n\n"
     ]
    }
   ],
   "source": [
    "#getting running sum of 2 values after defining the window above to sum the 2 values above it\n",
    "product_df.withColumn(\"running_sum\",sum(\"sales\").over(window)).show()"
   ]
  },
  {
   "cell_type": "code",
   "execution_count": 0,
   "metadata": {
    "application/vnd.databricks.v1+cell": {
     "cellMetadata": {},
     "inputWidgets": {},
     "nuid": "8f193274-031e-40d7-ba83-70ce893bab5c",
     "showTitle": false,
     "tableResultSettingsMap": {},
     "title": ""
    }
   },
   "outputs": [],
   "source": []
  }
 ],
 "metadata": {
  "application/vnd.databricks.v1+notebook": {
   "dashboards": [],
   "environmentMetadata": null,
   "language": "python",
   "notebookMetadata": {
    "pythonIndentUnit": 2
   },
   "notebookName": "Advanced Window Function",
   "widgets": {}
  }
 },
 "nbformat": 4,
 "nbformat_minor": 0
}
