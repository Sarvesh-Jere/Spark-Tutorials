{
 "cells": [
  {
   "cell_type": "code",
   "execution_count": 0,
   "metadata": {
    "application/vnd.databricks.v1+cell": {
     "cellMetadata": {
      "byteLimit": 2048000,
      "rowLimit": 10000
     },
     "inputWidgets": {},
     "nuid": "9cbd9447-f50a-4d73-8490-0dd7edef19e1",
     "showTitle": false,
     "tableResultSettingsMap": {},
     "title": ""
    }
   },
   "outputs": [],
   "source": [
    "from pyspark.sql.functions import *\n",
    "from pyspark.sql.types import *\n",
    "from pyspark.sql.window import Window"
   ]
  },
  {
   "cell_type": "code",
   "execution_count": 0,
   "metadata": {
    "application/vnd.databricks.v1+cell": {
     "cellMetadata": {
      "byteLimit": 2048000,
      "rowLimit": 10000
     },
     "inputWidgets": {},
     "nuid": "677f3f84-52d9-4cd8-8985-8afc28d20343",
     "showTitle": false,
     "tableResultSettingsMap": {},
     "title": ""
    }
   },
   "outputs": [],
   "source": [
    "product_data = [\n",
    "(1,\"iphone\",\"01-01-2023\",1500000),\n",
    "(2,\"samsung\",\"01-01-2023\",1100000),\n",
    "(3,\"oneplus\",\"01-01-2023\",1100000),\n",
    "(1,\"iphone\",\"01-02-2023\",1300000),\n",
    "(2,\"samsung\",\"01-02-2023\",1120000),\n",
    "(3,\"oneplus\",\"01-02-2023\",1120000),\n",
    "(1,\"iphone\",\"01-03-2023\",1600000),\n",
    "(2,\"samsung\",\"01-03-2023\",1080000),\n",
    "(3,\"oneplus\",\"01-03-2023\",1160000),\n",
    "(1,\"iphone\",\"01-04-2023\",1700000),\n",
    "(2,\"samsung\",\"01-04-2023\",1800000),\n",
    "(3,\"oneplus\",\"01-04-2023\",1170000),\n",
    "(1,\"iphone\",\"01-05-2023\",1200000),\n",
    "(2,\"samsung\",\"01-05-2023\",980000),\n",
    "(3,\"oneplus\",\"01-05-2023\",1175000),\n",
    "(1,\"iphone\",\"01-06-2023\",1100000),\n",
    "(2,\"samsung\",\"01-06-2023\",1100000),\n",
    "(3,\"oneplus\",\"01-06-2023\",1200000)\n",
    "]\n"
   ]
  },
  {
   "cell_type": "code",
   "execution_count": 0,
   "metadata": {
    "application/vnd.databricks.v1+cell": {
     "cellMetadata": {
      "byteLimit": 2048000,
      "rowLimit": 10000
     },
     "inputWidgets": {},
     "nuid": "2edbd477-386f-40f0-9f3a-96faba1235ec",
     "showTitle": false,
     "tableResultSettingsMap": {},
     "title": ""
    }
   },
   "outputs": [],
   "source": [
    "prod_schema = [\"id\",\"name\",\"sales_date\",\"sales\"]"
   ]
  },
  {
   "cell_type": "code",
   "execution_count": 0,
   "metadata": {
    "application/vnd.databricks.v1+cell": {
     "cellMetadata": {
      "byteLimit": 2048000,
      "rowLimit": 10000
     },
     "inputWidgets": {},
     "nuid": "4729175d-099d-4cbd-a87b-642a782b34c1",
     "showTitle": false,
     "tableResultSettingsMap": {},
     "title": ""
    }
   },
   "outputs": [],
   "source": [
    "prod_df = spark.createDataFrame(data=product_data,schema=prod_schema)"
   ]
  },
  {
   "cell_type": "code",
   "execution_count": 0,
   "metadata": {
    "application/vnd.databricks.v1+cell": {
     "cellMetadata": {
      "byteLimit": 2048000,
      "rowLimit": 10000
     },
     "inputWidgets": {},
     "nuid": "7362ffc4-1e2e-4dcc-97f3-36e6f261190c",
     "showTitle": false,
     "tableResultSettingsMap": {},
     "title": ""
    }
   },
   "outputs": [
    {
     "output_type": "stream",
     "name": "stdout",
     "output_type": "stream",
     "text": [
      "+---+-------+----------+-------+--------------------+\n| id|   name|sales_date|  sales|previous month sales|\n+---+-------+----------+-------+--------------------+\n|  1| iphone|01-01-2023|1500000|                null|\n|  1| iphone|01-02-2023|1300000|             1500000|\n|  1| iphone|01-03-2023|1600000|             1300000|\n|  1| iphone|01-04-2023|1700000|             1600000|\n|  1| iphone|01-05-2023|1200000|             1700000|\n|  1| iphone|01-06-2023|1100000|             1200000|\n|  2|samsung|01-01-2023|1100000|                null|\n|  2|samsung|01-02-2023|1120000|             1100000|\n|  2|samsung|01-03-2023|1080000|             1120000|\n|  2|samsung|01-04-2023|1800000|             1080000|\n|  2|samsung|01-05-2023| 980000|             1800000|\n|  2|samsung|01-06-2023|1100000|              980000|\n|  3|oneplus|01-01-2023|1100000|                null|\n|  3|oneplus|01-02-2023|1120000|             1100000|\n|  3|oneplus|01-03-2023|1160000|             1120000|\n|  3|oneplus|01-04-2023|1170000|             1160000|\n|  3|oneplus|01-05-2023|1175000|             1170000|\n|  3|oneplus|01-06-2023|1200000|             1175000|\n+---+-------+----------+-------+--------------------+\n\n"
     ]
    }
   ],
   "source": [
    "#We created a new dataframe named last month df to show the previous record salary using window function and lag\n",
    "# Lead and Lag are particula window functions \n",
    "window = Window.partitionBy(\"id\").orderBy(\"sales_date\")\n",
    "\n",
    "Last_month_df = prod_df.withColumn(\"previous month sales\",lag(col(\"sales\"),1).over(window))\n",
    "\n",
    "Last_month_df.show()"
   ]
  },
  {
   "cell_type": "code",
   "execution_count": 0,
   "metadata": {
    "application/vnd.databricks.v1+cell": {
     "cellMetadata": {
      "byteLimit": 2048000,
      "rowLimit": 10000
     },
     "inputWidgets": {},
     "nuid": "41c5ede8-8357-412b-bb3d-4d50d16922d5",
     "showTitle": false,
     "tableResultSettingsMap": {},
     "title": ""
    }
   },
   "outputs": [
    {
     "output_type": "stream",
     "name": "stdout",
     "output_type": "stream",
     "text": [
      "+---+-------+----------+-------+--------------------+\n| id|   name|sales_date|  sales|previous month sales|\n+---+-------+----------+-------+--------------------+\n|  1| iphone|01-01-2023|1500000|                 100|\n|  1| iphone|01-02-2023|1300000|             1500000|\n|  1| iphone|01-03-2023|1600000|             1300000|\n|  1| iphone|01-04-2023|1700000|             1600000|\n|  1| iphone|01-05-2023|1200000|             1700000|\n|  1| iphone|01-06-2023|1100000|             1200000|\n|  2|samsung|01-01-2023|1100000|                 100|\n|  2|samsung|01-02-2023|1120000|             1100000|\n|  2|samsung|01-03-2023|1080000|             1120000|\n|  2|samsung|01-04-2023|1800000|             1080000|\n|  2|samsung|01-05-2023| 980000|             1800000|\n|  2|samsung|01-06-2023|1100000|              980000|\n|  3|oneplus|01-01-2023|1100000|                 100|\n|  3|oneplus|01-02-2023|1120000|             1100000|\n|  3|oneplus|01-03-2023|1160000|             1120000|\n|  3|oneplus|01-04-2023|1170000|             1160000|\n|  3|oneplus|01-05-2023|1175000|             1170000|\n|  3|oneplus|01-06-2023|1200000|             1175000|\n+---+-------+----------+-------+--------------------+\n\n"
     ]
    }
   ],
   "source": [
    "# We will also pass the 3rd argument of the lag if we dont want null to show for the value before the first value, when no 3rd argument is passed it shows null by default.\n",
    "window = Window.partitionBy(\"id\").orderBy(\"sales_date\")\n",
    "\n",
    "last_month_df = prod_df.withColumn(\"previous month sales\",lag(col(\"sales\"),1,100).over(window))\n",
    "\n",
    "last_month_df.show()"
   ]
  },
  {
   "cell_type": "code",
   "execution_count": 0,
   "metadata": {
    "application/vnd.databricks.v1+cell": {
     "cellMetadata": {
      "byteLimit": 2048000,
      "rowLimit": 10000
     },
     "inputWidgets": {},
     "nuid": "f7fc9a44-8276-47c4-b64c-22b6ca2f2921",
     "showTitle": false,
     "tableResultSettingsMap": {},
     "title": ""
    }
   },
   "outputs": [
    {
     "output_type": "stream",
     "name": "stdout",
     "output_type": "stream",
     "text": [
      "+---+-------+----------+-------+--------------------+\n| id|   name|sales_date|  sales|previous month sales|\n+---+-------+----------+-------+--------------------+\n|  1| iphone|01-01-2023|1500000|                null|\n|  1| iphone|01-02-2023|1300000|                null|\n|  1| iphone|01-03-2023|1600000|             1500000|\n|  1| iphone|01-04-2023|1700000|             1300000|\n|  1| iphone|01-05-2023|1200000|             1600000|\n|  1| iphone|01-06-2023|1100000|             1700000|\n|  2|samsung|01-01-2023|1100000|                null|\n|  2|samsung|01-02-2023|1120000|                null|\n|  2|samsung|01-03-2023|1080000|             1100000|\n|  2|samsung|01-04-2023|1800000|             1120000|\n|  2|samsung|01-05-2023| 980000|             1080000|\n|  2|samsung|01-06-2023|1100000|             1800000|\n|  3|oneplus|01-01-2023|1100000|                null|\n|  3|oneplus|01-02-2023|1120000|                null|\n|  3|oneplus|01-03-2023|1160000|             1100000|\n|  3|oneplus|01-04-2023|1170000|             1120000|\n|  3|oneplus|01-05-2023|1175000|             1160000|\n|  3|oneplus|01-06-2023|1200000|             1170000|\n+---+-------+----------+-------+--------------------+\n\n"
     ]
    }
   ],
   "source": [
    "# Going back 2 records \n",
    "window = Window.partitionBy(\"id\").orderBy(\"sales_date\")\n",
    "\n",
    "Last_month_df = prod_df.withColumn(\"previous month sales\",lag(col(\"sales\"),2).over(window))\n",
    "\n",
    "Last_month_df.show()"
   ]
  },
  {
   "cell_type": "code",
   "execution_count": 0,
   "metadata": {
    "application/vnd.databricks.v1+cell": {
     "cellMetadata": {
      "byteLimit": 2048000,
      "rowLimit": 10000
     },
     "inputWidgets": {},
     "nuid": "9eaec253-d15d-4ead-890d-03cdb62a50a8",
     "showTitle": false,
     "tableResultSettingsMap": {},
     "title": ""
    }
   },
   "outputs": [
    {
     "output_type": "stream",
     "name": "stdout",
     "output_type": "stream",
     "text": [
      "+---+-------+----------+-------+--------------------+\n| id|   name|sales_date|  sales|previous month sales|\n+---+-------+----------+-------+--------------------+\n|  1| iphone|01-01-2023|1500000|             1300000|\n|  1| iphone|01-02-2023|1300000|             1600000|\n|  1| iphone|01-03-2023|1600000|             1700000|\n|  1| iphone|01-04-2023|1700000|             1200000|\n|  1| iphone|01-05-2023|1200000|             1100000|\n|  1| iphone|01-06-2023|1100000|                null|\n|  2|samsung|01-01-2023|1100000|             1120000|\n|  2|samsung|01-02-2023|1120000|             1080000|\n|  2|samsung|01-03-2023|1080000|             1800000|\n|  2|samsung|01-04-2023|1800000|              980000|\n|  2|samsung|01-05-2023| 980000|             1100000|\n|  2|samsung|01-06-2023|1100000|                null|\n|  3|oneplus|01-01-2023|1100000|             1120000|\n|  3|oneplus|01-02-2023|1120000|             1160000|\n|  3|oneplus|01-03-2023|1160000|             1170000|\n|  3|oneplus|01-04-2023|1170000|             1175000|\n|  3|oneplus|01-05-2023|1175000|             1200000|\n|  3|oneplus|01-06-2023|1200000|                null|\n+---+-------+----------+-------+--------------------+\n\n"
     ]
    }
   ],
   "source": [
    "#Using Lead in a similar Way\n",
    "window = Window.partitionBy(\"id\").orderBy(\"sales_date\")\n",
    "\n",
    "last_month_df = prod_df.withColumn(\"previous month sales\",lead(col(\"sales\"),1).over(window))\n",
    "\n",
    "last_month_df.show()"
   ]
  }
 ],
 "metadata": {
  "application/vnd.databricks.v1+notebook": {
   "dashboards": [],
   "environmentMetadata": null,
   "language": "python",
   "notebookMetadata": {
    "pythonIndentUnit": 2
   },
   "notebookName": "Lead and Lag in Spark",
   "widgets": {}
  }
 },
 "nbformat": 4,
 "nbformat_minor": 0
}
