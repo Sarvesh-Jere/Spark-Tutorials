{
 "cells": [
  {
   "cell_type": "code",
   "execution_count": 0,
   "metadata": {
    "application/vnd.databricks.v1+cell": {
     "cellMetadata": {
      "byteLimit": 2048000,
      "rowLimit": 10000
     },
     "inputWidgets": {},
     "nuid": "bdbbd6da-023c-4023-b4e4-09ebab5f1df4",
     "showTitle": false,
     "title": ""
    }
   },
   "outputs": [
    {
     "output_type": "stream",
     "name": "stdout",
     "output_type": "stream",
     "text": [
      "+---+--------+---+------+-------+------+\n| id|    name|age|salary|address|gender|\n+---+--------+---+------+-------+------+\n|  1|  Manish| 26| 75000|  INDIA|     m|\n|  2|  Nikita| 23|100000|    USA|     f|\n|  3|  Pritam| 22|150000|  INDIA|     m|\n|  4|Prantosh| 17|200000|  JAPAN|     m|\n|  5|  Vikash| 31|300000|    USA|     m|\n|  6|   Rahul| 55|300000|  INDIA|     m|\n|  7|    Raju| 67|540000|    USA|     m|\n|  8| Praveen| 28| 70000|  JAPAN|     m|\n|  9|     Dev| 32|150000|  JAPAN|     m|\n| 10|  Sherin| 16| 25000| RUSSIA|     f|\n| 11|    Ragu| 12| 35000|  INDIA|     f|\n| 12|   Sweta| 43|200000|  INDIA|     f|\n| 13| Raushan| 48|650000|    USA|     m|\n| 14|  Mukesh| 36| 95000| RUSSIA|     m|\n| 15| Prakash| 52|750000|  INDIA|     m|\n+---+--------+---+------+-------+------+\n\n"
     ]
    }
   ],
   "source": [
    "# Read csv data in the workspace\n",
    "df=spark.read.format(\"csv\")\\\n",
    "                .option(\"header\",\"true\")\\\n",
    "                .option(\"inferschema\",\"true\")\\\n",
    "                .option(\"mode\",\"permissive\")\\\n",
    "                .load(\"/FileStore/tables/sample_data.csv\")\n",
    "# Display the data frame content\n",
    "df.show()"
   ]
  },
  {
   "cell_type": "code",
   "execution_count": 0,
   "metadata": {
    "application/vnd.databricks.v1+cell": {
     "cellMetadata": {
      "byteLimit": 2048000,
      "rowLimit": 10000
     },
     "inputWidgets": {},
     "nuid": "4b848858-816e-46ac-ab03-aa9126f7715b",
     "showTitle": false,
     "title": ""
    }
   },
   "outputs": [],
   "source": [
    "#Write the data frame to disk\n",
    "df.write.format(\"csv\")\\\n",
    "        .option(\"header\",\"true\")\\\n",
    "        .option(\"mode\",\"write\")\\\n",
    "        .option(\"path\",\"/FileStore/tables/csv_write1/\")\\\n",
    "        .save()\n"
   ]
  },
  {
   "cell_type": "code",
   "execution_count": 0,
   "metadata": {
    "application/vnd.databricks.v1+cell": {
     "cellMetadata": {
      "byteLimit": 2048000,
      "rowLimit": 10000
     },
     "inputWidgets": {},
     "nuid": "e79ed426-e90c-4b0c-8fd7-96a48f1a0dc1",
     "showTitle": false,
     "title": ""
    }
   },
   "outputs": [
    {
     "output_type": "stream",
     "name": "stdout",
     "output_type": "stream",
     "text": [
      "Out[9]: [FileInfo(path='dbfs:/FileStore/tables/csv_write1/_SUCCESS', name='_SUCCESS', size=0, modificationTime=1729457149000),\n FileInfo(path='dbfs:/FileStore/tables/csv_write1/_committed_1452250976195115772', name='_committed_1452250976195115772', size=111, modificationTime=1729457149000),\n FileInfo(path='dbfs:/FileStore/tables/csv_write1/_started_1452250976195115772', name='_started_1452250976195115772', size=0, modificationTime=1729457148000),\n FileInfo(path='dbfs:/FileStore/tables/csv_write1/part-00000-tid-1452250976195115772-4a49f150-e2d9-4979-a431-8718f0eb21db-7-1-c000.csv', name='part-00000-tid-1452250976195115772-4a49f150-e2d9-4979-a431-8718f0eb21db-7-1-c000.csv', size=430, modificationTime=1729457148000)]"
     ]
    }
   ],
   "source": [
    "\n",
    "#List the file in the databricks storage \n",
    "dbutils.fs.ls(\"/FileStore/tables/csv_write1/\")"
   ]
  },
  {
   "cell_type": "code",
   "execution_count": 0,
   "metadata": {
    "application/vnd.databricks.v1+cell": {
     "cellMetadata": {
      "byteLimit": 2048000,
      "rowLimit": 10000
     },
     "inputWidgets": {},
     "nuid": "17407981-0fe4-4c48-a03a-befdc64a56e9",
     "showTitle": false,
     "title": ""
    }
   },
   "outputs": [],
   "source": [
    "#Repartition into 3 parts\n",
    "df.repartition(3).write.format(\"csv\")\\\n",
    "        .option(\"header\",\"true\")\\\n",
    "        .option(\"mode\",\"write\")\\\n",
    "        .option(\"path\",\"/FileStore/tables/csv_write1_repartition/\")\\\n",
    "        .save()\n"
   ]
  },
  {
   "cell_type": "code",
   "execution_count": 0,
   "metadata": {
    "application/vnd.databricks.v1+cell": {
     "cellMetadata": {
      "byteLimit": 2048000,
      "rowLimit": 10000
     },
     "inputWidgets": {},
     "nuid": "87814aa0-3ab4-4e21-8e85-16860ecf5021",
     "showTitle": false,
     "title": ""
    }
   },
   "outputs": [
    {
     "output_type": "stream",
     "name": "stdout",
     "output_type": "stream",
     "text": [
      "Out[11]: [FileInfo(path='dbfs:/FileStore/tables/csv_write1_repartition/_SUCCESS', name='_SUCCESS', size=0, modificationTime=1729457499000),\n FileInfo(path='dbfs:/FileStore/tables/csv_write1_repartition/_committed_6839546871836547571', name='_committed_6839546871836547571', size=287, modificationTime=1729457499000),\n FileInfo(path='dbfs:/FileStore/tables/csv_write1_repartition/_started_6839546871836547571', name='_started_6839546871836547571', size=0, modificationTime=1729457499000),\n FileInfo(path='dbfs:/FileStore/tables/csv_write1_repartition/part-00000-tid-6839546871836547571-0117c149-912f-4b69-95ca-709de8f8b1e4-9-1-c000.csv', name='part-00000-tid-6839546871836547571-0117c149-912f-4b69-95ca-709de8f8b1e4-9-1-c000.csv', size=167, modificationTime=1729457499000),\n FileInfo(path='dbfs:/FileStore/tables/csv_write1_repartition/part-00001-tid-6839546871836547571-0117c149-912f-4b69-95ca-709de8f8b1e4-10-1-c000.csv', name='part-00001-tid-6839546871836547571-0117c149-912f-4b69-95ca-709de8f8b1e4-10-1-c000.csv', size=162, modificationTime=1729457499000),\n FileInfo(path='dbfs:/FileStore/tables/csv_write1_repartition/part-00002-tid-6839546871836547571-0117c149-912f-4b69-95ca-709de8f8b1e4-11-1-c000.csv', name='part-00002-tid-6839546871836547571-0117c149-912f-4b69-95ca-709de8f8b1e4-11-1-c000.csv', size=169, modificationTime=1729457499000)]"
     ]
    }
   ],
   "source": [
    "#List the file in the databricks storage \n",
    "dbutils.fs.ls(\"/FileStore/tables/csv_write1_repartition/\")"
   ]
  }
 ],
 "metadata": {
  "application/vnd.databricks.v1+notebook": {
   "dashboards": [],
   "environmentMetadata": null,
   "language": "python",
   "notebookMetadata": {
    "pythonIndentUnit": 4
   },
   "notebookName": "Write df to disk",
   "widgets": {}
  }
 },
 "nbformat": 4,
 "nbformat_minor": 0
}
