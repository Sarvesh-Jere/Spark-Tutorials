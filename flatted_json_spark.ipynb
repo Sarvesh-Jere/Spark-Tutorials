{
 "cells": [
  {
   "cell_type": "code",
   "execution_count": 0,
   "metadata": {
    "application/vnd.databricks.v1+cell": {
     "cellMetadata": {
      "byteLimit": 2048000,
      "rowLimit": 10000
     },
     "inputWidgets": {},
     "nuid": "6de203fc-fc8d-473e-8623-0d92bf4de1cc",
     "showTitle": false,
     "tableResultSettingsMap": {},
     "title": ""
    }
   },
   "outputs": [],
   "source": [
    "rest_df = spark.read.format(\"json\")\\\n",
    "    .option(\"multiline\",\"true\")\\\n",
    "    .option(\"inferschema\",\"true\")\\\n",
    "    .load(\"/FileStore/tables/resturant_json_data.json\")\n",
    "\n"
   ]
  },
  {
   "cell_type": "code",
   "execution_count": 0,
   "metadata": {
    "application/vnd.databricks.v1+cell": {
     "cellMetadata": {
      "byteLimit": 2048000,
      "rowLimit": 10000
     },
     "inputWidgets": {},
     "nuid": "96d7ed34-35e3-421b-865f-290d68561fd4",
     "showTitle": false,
     "tableResultSettingsMap": {},
     "title": ""
    }
   },
   "outputs": [
    {
     "output_type": "stream",
     "name": "stdout",
     "output_type": "stream",
     "text": [
      "+----+-------+--------------------+-------------+-------------+-------------+------+\n|code|message|         restaurants|results_found|results_shown|results_start|status|\n+----+-------+--------------------+-------------+-------------+-------------+------+\n|null|   null|                  []|            0|            0|            1|  null|\n|null|   null|[{{{17066603}, b9...|         6835|           20|            1|  null|\n|null|   null|                  []|            0|            0|            1|  null|\n|null|   null|                  []|            0|            0|            1|  null|\n|null|   null|[{{{17093124}, b9...|         8680|           20|            1|  null|\n|null|   null|                  []|            0|            0|            1|  null|\n|null|   null|                  []|            0|            0|            1|  null|\n|null|   null|[{{{17580142}, b9...|          943|           20|            1|  null|\n|null|   null|                  []|            0|            0|            1|  null|\n|null|   null|                  []|            0|            0|            1|  null|\n|null|   null|[{{{17284158}, b9...|          257|           20|            1|  null|\n|null|   null|                  []|            0|            0|            1|  null|\n|null|   null|                  []|            0|            0|            1|  null|\n|null|   null|[{{{17678233}, b9...|          358|           20|            1|  null|\n|null|   null|                  []|            0|            0|            1|  null|\n|null|   null|                  []|            0|            0|            1|  null|\n|null|   null|[{{{17375047}, b9...|          641|           20|            1|  null|\n|null|   null|                  []|            0|            0|            1|  null|\n|null|   null|                  []|            0|            0|            1|  null|\n|null|   null|[{{{17616590}, b9...|         1613|           20|            1|  null|\n+----+-------+--------------------+-------------+-------------+-------------+------+\nonly showing top 20 rows\n\n"
     ]
    }
   ],
   "source": [
    "rest_df.show()"
   ]
  },
  {
   "cell_type": "code",
   "execution_count": 0,
   "metadata": {
    "application/vnd.databricks.v1+cell": {
     "cellMetadata": {
      "byteLimit": 2048000,
      "rowLimit": 10000
     },
     "inputWidgets": {},
     "nuid": "bc9786b4-d94c-4498-a15d-d52d4a748fcc",
     "showTitle": false,
     "tableResultSettingsMap": {},
     "title": ""
    }
   },
   "outputs": [
    {
     "output_type": "stream",
     "name": "stdout",
     "output_type": "stream",
     "text": [
      "root\n |-- code: long (nullable = true)\n |-- message: string (nullable = true)\n |-- restaurants: array (nullable = true)\n |    |-- element: struct (containsNull = true)\n |    |    |-- restaurant: struct (nullable = true)\n |    |    |    |-- R: struct (nullable = true)\n |    |    |    |    |-- res_id: long (nullable = true)\n |    |    |    |-- apikey: string (nullable = true)\n |    |    |    |-- average_cost_for_two: long (nullable = true)\n |    |    |    |-- cuisines: string (nullable = true)\n |    |    |    |-- currency: string (nullable = true)\n |    |    |    |-- deeplink: string (nullable = true)\n |    |    |    |-- establishment_types: array (nullable = true)\n |    |    |    |    |-- element: string (containsNull = true)\n |    |    |    |-- events_url: string (nullable = true)\n |    |    |    |-- featured_image: string (nullable = true)\n |    |    |    |-- has_online_delivery: long (nullable = true)\n |    |    |    |-- has_table_booking: long (nullable = true)\n |    |    |    |-- id: string (nullable = true)\n |    |    |    |-- is_delivering_now: long (nullable = true)\n |    |    |    |-- location: struct (nullable = true)\n |    |    |    |    |-- address: string (nullable = true)\n |    |    |    |    |-- city: string (nullable = true)\n |    |    |    |    |-- city_id: long (nullable = true)\n |    |    |    |    |-- country_id: long (nullable = true)\n |    |    |    |    |-- latitude: string (nullable = true)\n |    |    |    |    |-- locality: string (nullable = true)\n |    |    |    |    |-- locality_verbose: string (nullable = true)\n |    |    |    |    |-- longitude: string (nullable = true)\n |    |    |    |    |-- zipcode: string (nullable = true)\n |    |    |    |-- menu_url: string (nullable = true)\n |    |    |    |-- name: string (nullable = true)\n |    |    |    |-- offers: array (nullable = true)\n |    |    |    |    |-- element: string (containsNull = true)\n |    |    |    |-- photos_url: string (nullable = true)\n |    |    |    |-- price_range: long (nullable = true)\n |    |    |    |-- switch_to_order_menu: long (nullable = true)\n |    |    |    |-- thumb: string (nullable = true)\n |    |    |    |-- url: string (nullable = true)\n |    |    |    |-- user_rating: struct (nullable = true)\n |    |    |    |    |-- aggregate_rating: string (nullable = true)\n |    |    |    |    |-- rating_color: string (nullable = true)\n |    |    |    |    |-- rating_text: string (nullable = true)\n |    |    |    |    |-- votes: string (nullable = true)\n |-- results_found: long (nullable = true)\n |-- results_shown: long (nullable = true)\n |-- results_start: string (nullable = true)\n |-- status: string (nullable = true)\n\n"
     ]
    }
   ],
   "source": [
    "# Printing the schema to see which fields do we need to flatten in the json data, flattening means storing all values at the same level without\n",
    "# nesting etc.\n",
    "rest_df.printSchema()"
   ]
  },
  {
   "cell_type": "code",
   "execution_count": 0,
   "metadata": {
    "application/vnd.databricks.v1+cell": {
     "cellMetadata": {
      "byteLimit": 2048000,
      "rowLimit": 10000
     },
     "inputWidgets": {},
     "nuid": "1f50ce11-0385-4dce-b753-d1971a5b1383",
     "showTitle": false,
     "tableResultSettingsMap": {},
     "title": ""
    }
   },
   "outputs": [],
   "source": [
    "from pyspark.sql.functions import *\n",
    "from pyspark.sql.types import *"
   ]
  },
  {
   "cell_type": "code",
   "execution_count": 0,
   "metadata": {
    "application/vnd.databricks.v1+cell": {
     "cellMetadata": {
      "byteLimit": 2048000,
      "rowLimit": 10000
     },
     "inputWidgets": {},
     "nuid": "4b26e76b-609d-40fd-b13a-3dd289b3080c",
     "showTitle": false,
     "tableResultSettingsMap": {},
     "title": ""
    }
   },
   "outputs": [
    {
     "output_type": "stream",
     "name": "stdout",
     "output_type": "stream",
     "text": [
      "root\n |-- code: long (nullable = true)\n |-- message: string (nullable = true)\n |-- restaurants: array (nullable = true)\n |    |-- element: struct (containsNull = true)\n |    |    |-- restaurant: struct (nullable = true)\n |    |    |    |-- R: struct (nullable = true)\n |    |    |    |    |-- res_id: long (nullable = true)\n |    |    |    |-- apikey: string (nullable = true)\n |    |    |    |-- average_cost_for_two: long (nullable = true)\n |    |    |    |-- cuisines: string (nullable = true)\n |    |    |    |-- currency: string (nullable = true)\n |    |    |    |-- deeplink: string (nullable = true)\n |    |    |    |-- establishment_types: array (nullable = true)\n |    |    |    |    |-- element: string (containsNull = true)\n |    |    |    |-- events_url: string (nullable = true)\n |    |    |    |-- featured_image: string (nullable = true)\n |    |    |    |-- has_online_delivery: long (nullable = true)\n |    |    |    |-- has_table_booking: long (nullable = true)\n |    |    |    |-- id: string (nullable = true)\n |    |    |    |-- is_delivering_now: long (nullable = true)\n |    |    |    |-- location: struct (nullable = true)\n |    |    |    |    |-- address: string (nullable = true)\n |    |    |    |    |-- city: string (nullable = true)\n |    |    |    |    |-- city_id: long (nullable = true)\n |    |    |    |    |-- country_id: long (nullable = true)\n |    |    |    |    |-- latitude: string (nullable = true)\n |    |    |    |    |-- locality: string (nullable = true)\n |    |    |    |    |-- locality_verbose: string (nullable = true)\n |    |    |    |    |-- longitude: string (nullable = true)\n |    |    |    |    |-- zipcode: string (nullable = true)\n |    |    |    |-- menu_url: string (nullable = true)\n |    |    |    |-- name: string (nullable = true)\n |    |    |    |-- offers: array (nullable = true)\n |    |    |    |    |-- element: string (containsNull = true)\n |    |    |    |-- photos_url: string (nullable = true)\n |    |    |    |-- price_range: long (nullable = true)\n |    |    |    |-- switch_to_order_menu: long (nullable = true)\n |    |    |    |-- thumb: string (nullable = true)\n |    |    |    |-- url: string (nullable = true)\n |    |    |    |-- user_rating: struct (nullable = true)\n |    |    |    |    |-- aggregate_rating: string (nullable = true)\n |    |    |    |    |-- rating_color: string (nullable = true)\n |    |    |    |    |-- rating_text: string (nullable = true)\n |    |    |    |    |-- votes: string (nullable = true)\n |-- results_found: long (nullable = true)\n |-- results_shown: long (nullable = true)\n |-- results_start: string (nullable = true)\n |-- status: string (nullable = true)\n |-- new_restaurants: struct (nullable = true)\n |    |-- restaurant: struct (nullable = true)\n |    |    |-- R: struct (nullable = true)\n |    |    |    |-- res_id: long (nullable = true)\n |    |    |-- apikey: string (nullable = true)\n |    |    |-- average_cost_for_two: long (nullable = true)\n |    |    |-- cuisines: string (nullable = true)\n |    |    |-- currency: string (nullable = true)\n |    |    |-- deeplink: string (nullable = true)\n |    |    |-- establishment_types: array (nullable = true)\n |    |    |    |-- element: string (containsNull = true)\n |    |    |-- events_url: string (nullable = true)\n |    |    |-- featured_image: string (nullable = true)\n |    |    |-- has_online_delivery: long (nullable = true)\n |    |    |-- has_table_booking: long (nullable = true)\n |    |    |-- id: string (nullable = true)\n |    |    |-- is_delivering_now: long (nullable = true)\n |    |    |-- location: struct (nullable = true)\n |    |    |    |-- address: string (nullable = true)\n |    |    |    |-- city: string (nullable = true)\n |    |    |    |-- city_id: long (nullable = true)\n |    |    |    |-- country_id: long (nullable = true)\n |    |    |    |-- latitude: string (nullable = true)\n |    |    |    |-- locality: string (nullable = true)\n |    |    |    |-- locality_verbose: string (nullable = true)\n |    |    |    |-- longitude: string (nullable = true)\n |    |    |    |-- zipcode: string (nullable = true)\n |    |    |-- menu_url: string (nullable = true)\n |    |    |-- name: string (nullable = true)\n |    |    |-- offers: array (nullable = true)\n |    |    |    |-- element: string (containsNull = true)\n |    |    |-- photos_url: string (nullable = true)\n |    |    |-- price_range: long (nullable = true)\n |    |    |-- switch_to_order_menu: long (nullable = true)\n |    |    |-- thumb: string (nullable = true)\n |    |    |-- url: string (nullable = true)\n |    |    |-- user_rating: struct (nullable = true)\n |    |    |    |-- aggregate_rating: string (nullable = true)\n |    |    |    |-- rating_color: string (nullable = true)\n |    |    |    |-- rating_text: string (nullable = true)\n |    |    |    |-- votes: string (nullable = true)\n\n"
     ]
    }
   ],
   "source": [
    "# Arrays in json are flattened using the explode function,This will transform each element of an array into a separate row.\n",
    "# Observe how after exploding it turned the data type into struct with which we can now easily access the data using .\n",
    "\n",
    "rest_df.select(\"*\",explode(\"restaurants\").alias(\"new_restaurants\")).printSchema()"
   ]
  },
  {
   "cell_type": "code",
   "execution_count": 0,
   "metadata": {
    "application/vnd.databricks.v1+cell": {
     "cellMetadata": {
      "byteLimit": 2048000,
      "rowLimit": 10000
     },
     "inputWidgets": {},
     "nuid": "a665ccce-e59e-4e52-8739-62cd81c2f062",
     "showTitle": false,
     "tableResultSettingsMap": {},
     "title": ""
    }
   },
   "outputs": [
    {
     "output_type": "stream",
     "name": "stdout",
     "output_type": "stream",
     "text": [
      "Out[10]: DataFrame[code: bigint, message: string, results_found: bigint, results_shown: bigint, results_start: string, status: string]"
     ]
    }
   ],
   "source": [
    "rest_df.drop(\"restaurants\")"
   ]
  },
  {
   "cell_type": "code",
   "execution_count": 0,
   "metadata": {
    "application/vnd.databricks.v1+cell": {
     "cellMetadata": {
      "byteLimit": 2048000,
      "rowLimit": 10000
     },
     "inputWidgets": {},
     "nuid": "b669dd4e-f2c9-49ba-a1c6-c97bd60c61b2",
     "showTitle": false,
     "tableResultSettingsMap": {},
     "title": ""
    }
   },
   "outputs": [
    {
     "output_type": "stream",
     "name": "stdout",
     "output_type": "stream",
     "text": [
      "+--------+\n|  res_id|\n+--------+\n|17066603|\n|17059541|\n|17064405|\n|17057797|\n|17057591|\n|17064266|\n|17060516|\n|17060320|\n|17059060|\n|17059012|\n|17060869|\n|17061231|\n|17058534|\n|17057925|\n|17064031|\n|17061237|\n|17061253|\n|17061296|\n|17061205|\n|17057397|\n+--------+\nonly showing top 20 rows\n\n"
     ]
    }
   ],
   "source": [
    "#As you can see we accessed the specific column res_id using just . \n",
    "#It was possible cause we made it struct type\n",
    "rest_df.select(\"*\",explode(\"restaurants\").alias(\"new_restaurants\"))\\\n",
    "    .select(\"new_restaurants.restaurant.R.res_id\").show()"
   ]
  },
  {
   "cell_type": "code",
   "execution_count": 0,
   "metadata": {
    "application/vnd.databricks.v1+cell": {
     "cellMetadata": {
      "byteLimit": 2048000,
      "rowLimit": 10000
     },
     "inputWidgets": {},
     "nuid": "724553bb-038c-47a7-98db-393e2f3b8d1c",
     "showTitle": false,
     "tableResultSettingsMap": {},
     "title": ""
    }
   },
   "outputs": [
    {
     "output_type": "stream",
     "name": "stdout",
     "output_type": "stream",
     "text": [
      "+----+-------+--------------------+-------------+-------------+-------------+------+--------------------+--------+\n|code|message|         restaurants|results_found|results_shown|results_start|status|     new_restaurants|  res_id|\n+----+-------+--------------------+-------------+-------------+-------------+------+--------------------+--------+\n|null|   null|[{{{17066603}, b9...|         6835|           20|            1|  null|{{{17066603}, b90...|17066603|\n|null|   null|[{{{17066603}, b9...|         6835|           20|            1|  null|{{{17059541}, b90...|17059541|\n|null|   null|[{{{17066603}, b9...|         6835|           20|            1|  null|{{{17064405}, b90...|17064405|\n|null|   null|[{{{17066603}, b9...|         6835|           20|            1|  null|{{{17057797}, b90...|17057797|\n|null|   null|[{{{17066603}, b9...|         6835|           20|            1|  null|{{{17057591}, b90...|17057591|\n|null|   null|[{{{17066603}, b9...|         6835|           20|            1|  null|{{{17064266}, b90...|17064266|\n|null|   null|[{{{17066603}, b9...|         6835|           20|            1|  null|{{{17060516}, b90...|17060516|\n|null|   null|[{{{17066603}, b9...|         6835|           20|            1|  null|{{{17060320}, b90...|17060320|\n|null|   null|[{{{17066603}, b9...|         6835|           20|            1|  null|{{{17059060}, b90...|17059060|\n|null|   null|[{{{17066603}, b9...|         6835|           20|            1|  null|{{{17059012}, b90...|17059012|\n|null|   null|[{{{17066603}, b9...|         6835|           20|            1|  null|{{{17060869}, b90...|17060869|\n|null|   null|[{{{17066603}, b9...|         6835|           20|            1|  null|{{{17061231}, b90...|17061231|\n|null|   null|[{{{17066603}, b9...|         6835|           20|            1|  null|{{{17058534}, b90...|17058534|\n|null|   null|[{{{17066603}, b9...|         6835|           20|            1|  null|{{{17057925}, b90...|17057925|\n|null|   null|[{{{17066603}, b9...|         6835|           20|            1|  null|{{{17064031}, b90...|17064031|\n|null|   null|[{{{17066603}, b9...|         6835|           20|            1|  null|{{{17061237}, b90...|17061237|\n|null|   null|[{{{17066603}, b9...|         6835|           20|            1|  null|{{{17061253}, b90...|17061253|\n|null|   null|[{{{17066603}, b9...|         6835|           20|            1|  null|{{{17061296}, b90...|17061296|\n|null|   null|[{{{17066603}, b9...|         6835|           20|            1|  null|{{{17061205}, b90...|17061205|\n|null|   null|[{{{17066603}, b9...|         6835|           20|            1|  null|{{{17057397}, b90...|17057397|\n+----+-------+--------------------+-------------+-------------+-------------+------+--------------------+--------+\nonly showing top 20 rows\n\n"
     ]
    }
   ],
   "source": [
    "#If you are not gettind any data on show that means explode has discarded all data cause explode discards data with null, in that case\n",
    "#use explode_outer\n",
    "rest_df.select(\"*\",explode_outer(\"restaurants\").alias(\"new_restaurants\"))\\\n",
    "    .select(\"*\",\"new_restaurants.restaurant.R.res_id\").show()"
   ]
  },
  {
   "cell_type": "code",
   "execution_count": 0,
   "metadata": {
    "application/vnd.databricks.v1+cell": {
     "cellMetadata": {},
     "inputWidgets": {},
     "nuid": "abe5aa5a-961c-4132-b321-efd3fd169b6e",
     "showTitle": false,
     "tableResultSettingsMap": {},
     "title": ""
    }
   },
   "outputs": [],
   "source": []
  }
 ],
 "metadata": {
  "application/vnd.databricks.v1+notebook": {
   "dashboards": [],
   "environmentMetadata": null,
   "language": "python",
   "notebookMetadata": {
    "pythonIndentUnit": 4
   },
   "notebookName": "flatted_json_spark",
   "widgets": {}
  }
 },
 "nbformat": 4,
 "nbformat_minor": 0
}
